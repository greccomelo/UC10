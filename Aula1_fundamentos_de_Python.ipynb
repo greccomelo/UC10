{
  "nbformat": 4,
  "nbformat_minor": 0,
  "metadata": {
    "colab": {
      "name": "Aula1 - fundamentos de Python.ipynb",
      "provenance": [],
      "mount_file_id": "1ntuHQu4b0cXI-zU8gG4Bm2jJ_t1dwGwS",
      "authorship_tag": "ABX9TyO3Qvzq7PnFkjhs7Ms/P/Xn",
      "include_colab_link": true
    },
    "kernelspec": {
      "name": "python3",
      "display_name": "Python 3"
    },
    "language_info": {
      "name": "python"
    }
  },
  "cells": [
    {
      "cell_type": "markdown",
      "metadata": {
        "id": "view-in-github",
        "colab_type": "text"
      },
      "source": [
        "<a href=\"https://colab.research.google.com/github/greccomelo/UC10/blob/master/Aula1_fundamentos_de_Python.ipynb\" target=\"_parent\"><img src=\"https://colab.research.google.com/assets/colab-badge.svg\" alt=\"Open In Colab\"/></a>"
      ]
    },
    {
      "cell_type": "code",
      "execution_count": null,
      "metadata": {
        "id": "Yvle3DWyF7L0"
      },
      "outputs": [],
      "source": [
        ""
      ]
    }
  ]
}